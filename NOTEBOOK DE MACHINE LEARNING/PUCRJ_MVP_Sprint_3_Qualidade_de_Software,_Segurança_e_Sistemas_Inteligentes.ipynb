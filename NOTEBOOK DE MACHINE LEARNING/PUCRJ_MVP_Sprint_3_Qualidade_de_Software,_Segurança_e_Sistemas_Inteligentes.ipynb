{
  "nbformat": 4,
  "nbformat_minor": 0,
  "metadata": {
    "colab": {
      "provenance": []
    },
    "kernelspec": {
      "name": "python3",
      "display_name": "Python 3"
    }
  },
  "cells": [
    {
      "cell_type": "markdown",
      "metadata": {
        "id": "otEdveLq8Hn0"
      },
      "source": [
        "## PUCRJ MVP Sprint 3 - Qualidade de Software, Segurança e Sistemas Inteligentes\n",
        "## Giovanny Pimenta Monteiro\n",
        "\n",
        "Este notebook apresenta uma análise abrangente de variáveis que influenciam o sono e os hábitos diários, oferecendo uma visão profunda sobre como diferentes fatores podem impactar o bem-estar geral. Os dados analisados incluem uma ampla gama de informações demográficas e fisiológicas, como o gênero e a idade dos participantes, a duração e a qualidade do sono reportada, além de detalhes específicos sobre os níveis diários de atividade física e estresse. Também são levados em consideração fatores relacionados à saúde, como a categoria de IMC, que pode influenciar o metabolismo e a qualidade do sono, bem como medições vitais, incluindo pressão arterial, frequência cardíaca e a contagem de passos diários, que fornecem um quadro mais completo do estilo de vida dos indivíduos. Por fim, o estudo explora a presença ou ausência de distúrbios do sono, oferecendo uma análise detalhada sobre possíveis correlações entre esses distúrbios e os hábitos diários observados, permitindo um entendimento mais profundo sobre a relação entre sono, saúde e hábitos de vida."
      ]
    },
    {
      "cell_type": "code",
      "metadata": {
        "id": "RCn8CH4M7wF-"
      },
      "source": [
        "# Suprime a exibição de avisos desnecessários para manter o ambiente limpo durante a execução\n",
        "import warnings\n",
        "warnings.filterwarnings(\"ignore\")\n",
        "\n",
        "# Importação de bibliotecas essenciais para manipulação de dados, pré-processamento, modelagem e serialização\n",
        "import pandas as pd\n",
        "import pickle\n",
        "import numpy as np\n",
        "import matplotlib.pyplot as plt\n",
        "from sklearn.preprocessing import StandardScaler\n",
        "from sklearn.preprocessing import MinMaxScaler\n",
        "from sklearn.pipeline import Pipeline\n",
        "from sklearn.model_selection import train_test_split\n",
        "from sklearn.model_selection import KFold\n",
        "from sklearn.model_selection import StratifiedKFold\n",
        "from sklearn.model_selection import cross_val_score\n",
        "from sklearn.model_selection import GridSearchCV\n",
        "from sklearn.metrics import accuracy_score\n",
        "from sklearn.neighbors import KNeighborsClassifier\n",
        "from sklearn.naive_bayes import GaussianNB\n",
        "from sklearn.svm import SVC\n",
        "from sklearn.tree import DecisionTreeClassifier\n",
        "from pickle import dump\n",
        "from pickle import load\n",
        "import joblib\n"
      ],
      "execution_count": 2,
      "outputs": []
    },
    {
      "cell_type": "markdown",
      "metadata": {
        "id": "2PcB0Efd-MS4"
      },
      "source": [
        "## Carregamento do Dataset de Saúde e Estilo de Vida"
      ]
    },
    {
      "cell_type": "code",
      "metadata": {
        "id": "29AFuCPtvG_i",
        "colab": {
          "base_uri": "https://localhost:8080/",
          "height": 206
        },
        "outputId": "07e4c148-aa8d-4009-c3fe-69704035e257"
      },
      "source": [
        "# Definindo a URL de onde o dataset será carregado\n",
        "url_dataset = \"https://raw.githubusercontent.com/gyomonteiro/MVP_PUCRJ_SPRINT_III/refs/heads/main/archive/sleep_health_and_lifestyle_treated.csv\"\n",
        "\n",
        "# Carregamento do dataset a partir da URL especificada utilizando pandas\n",
        "dados_saude = pd.read_csv(url_dataset, delimiter=',')\n",
        "\n",
        "# Exibindo as primeiras linhas do dataset para verificar a correta leitura e estrutura dos dados\n",
        "dados_saude.head()\n"
      ],
      "execution_count": 3,
      "outputs": [
        {
          "output_type": "execute_result",
          "data": {
            "text/plain": [
              "   Person ID  Gender   Age  Sleep Duration  Quality of Sleep  \\\n",
              "0          1       1  27.0             6.1                 6   \n",
              "1          2       1  28.0             6.2                 6   \n",
              "2          3       1  28.0             6.2                 6   \n",
              "3          4       1  28.0             5.9                 4   \n",
              "4          5       1  28.0             5.9                 4   \n",
              "\n",
              "   Physical Activity Level  Stress Level  BMI Category  Blood Pressure  \\\n",
              "0                       42             6           2.0          126.83   \n",
              "1                       60             8           1.0          125.80   \n",
              "2                       60             8           1.0          125.80   \n",
              "3                       30             8           3.0          140.90   \n",
              "4                       30             8           3.0          140.90   \n",
              "\n",
              "   Heart Rate  Daily Steps  Sleep Disorder  \n",
              "0          77         4200               0  \n",
              "1          75        10000               0  \n",
              "2          75        10000               0  \n",
              "3          85         3000               1  \n",
              "4          85         3000               1  "
            ],
            "text/html": [
              "\n",
              "  <div id=\"df-a09191f3-4e27-41f3-9f24-6920fec18eb9\" class=\"colab-df-container\">\n",
              "    <div>\n",
              "<style scoped>\n",
              "    .dataframe tbody tr th:only-of-type {\n",
              "        vertical-align: middle;\n",
              "    }\n",
              "\n",
              "    .dataframe tbody tr th {\n",
              "        vertical-align: top;\n",
              "    }\n",
              "\n",
              "    .dataframe thead th {\n",
              "        text-align: right;\n",
              "    }\n",
              "</style>\n",
              "<table border=\"1\" class=\"dataframe\">\n",
              "  <thead>\n",
              "    <tr style=\"text-align: right;\">\n",
              "      <th></th>\n",
              "      <th>Person ID</th>\n",
              "      <th>Gender</th>\n",
              "      <th>Age</th>\n",
              "      <th>Sleep Duration</th>\n",
              "      <th>Quality of Sleep</th>\n",
              "      <th>Physical Activity Level</th>\n",
              "      <th>Stress Level</th>\n",
              "      <th>BMI Category</th>\n",
              "      <th>Blood Pressure</th>\n",
              "      <th>Heart Rate</th>\n",
              "      <th>Daily Steps</th>\n",
              "      <th>Sleep Disorder</th>\n",
              "    </tr>\n",
              "  </thead>\n",
              "  <tbody>\n",
              "    <tr>\n",
              "      <th>0</th>\n",
              "      <td>1</td>\n",
              "      <td>1</td>\n",
              "      <td>27.0</td>\n",
              "      <td>6.1</td>\n",
              "      <td>6</td>\n",
              "      <td>42</td>\n",
              "      <td>6</td>\n",
              "      <td>2.0</td>\n",
              "      <td>126.83</td>\n",
              "      <td>77</td>\n",
              "      <td>4200</td>\n",
              "      <td>0</td>\n",
              "    </tr>\n",
              "    <tr>\n",
              "      <th>1</th>\n",
              "      <td>2</td>\n",
              "      <td>1</td>\n",
              "      <td>28.0</td>\n",
              "      <td>6.2</td>\n",
              "      <td>6</td>\n",
              "      <td>60</td>\n",
              "      <td>8</td>\n",
              "      <td>1.0</td>\n",
              "      <td>125.80</td>\n",
              "      <td>75</td>\n",
              "      <td>10000</td>\n",
              "      <td>0</td>\n",
              "    </tr>\n",
              "    <tr>\n",
              "      <th>2</th>\n",
              "      <td>3</td>\n",
              "      <td>1</td>\n",
              "      <td>28.0</td>\n",
              "      <td>6.2</td>\n",
              "      <td>6</td>\n",
              "      <td>60</td>\n",
              "      <td>8</td>\n",
              "      <td>1.0</td>\n",
              "      <td>125.80</td>\n",
              "      <td>75</td>\n",
              "      <td>10000</td>\n",
              "      <td>0</td>\n",
              "    </tr>\n",
              "    <tr>\n",
              "      <th>3</th>\n",
              "      <td>4</td>\n",
              "      <td>1</td>\n",
              "      <td>28.0</td>\n",
              "      <td>5.9</td>\n",
              "      <td>4</td>\n",
              "      <td>30</td>\n",
              "      <td>8</td>\n",
              "      <td>3.0</td>\n",
              "      <td>140.90</td>\n",
              "      <td>85</td>\n",
              "      <td>3000</td>\n",
              "      <td>1</td>\n",
              "    </tr>\n",
              "    <tr>\n",
              "      <th>4</th>\n",
              "      <td>5</td>\n",
              "      <td>1</td>\n",
              "      <td>28.0</td>\n",
              "      <td>5.9</td>\n",
              "      <td>4</td>\n",
              "      <td>30</td>\n",
              "      <td>8</td>\n",
              "      <td>3.0</td>\n",
              "      <td>140.90</td>\n",
              "      <td>85</td>\n",
              "      <td>3000</td>\n",
              "      <td>1</td>\n",
              "    </tr>\n",
              "  </tbody>\n",
              "</table>\n",
              "</div>\n",
              "    <div class=\"colab-df-buttons\">\n",
              "\n",
              "  <div class=\"colab-df-container\">\n",
              "    <button class=\"colab-df-convert\" onclick=\"convertToInteractive('df-a09191f3-4e27-41f3-9f24-6920fec18eb9')\"\n",
              "            title=\"Convert this dataframe to an interactive table.\"\n",
              "            style=\"display:none;\">\n",
              "\n",
              "  <svg xmlns=\"http://www.w3.org/2000/svg\" height=\"24px\" viewBox=\"0 -960 960 960\">\n",
              "    <path d=\"M120-120v-720h720v720H120Zm60-500h600v-160H180v160Zm220 220h160v-160H400v160Zm0 220h160v-160H400v160ZM180-400h160v-160H180v160Zm440 0h160v-160H620v160ZM180-180h160v-160H180v160Zm440 0h160v-160H620v160Z\"/>\n",
              "  </svg>\n",
              "    </button>\n",
              "\n",
              "  <style>\n",
              "    .colab-df-container {\n",
              "      display:flex;\n",
              "      gap: 12px;\n",
              "    }\n",
              "\n",
              "    .colab-df-convert {\n",
              "      background-color: #E8F0FE;\n",
              "      border: none;\n",
              "      border-radius: 50%;\n",
              "      cursor: pointer;\n",
              "      display: none;\n",
              "      fill: #1967D2;\n",
              "      height: 32px;\n",
              "      padding: 0 0 0 0;\n",
              "      width: 32px;\n",
              "    }\n",
              "\n",
              "    .colab-df-convert:hover {\n",
              "      background-color: #E2EBFA;\n",
              "      box-shadow: 0px 1px 2px rgba(60, 64, 67, 0.3), 0px 1px 3px 1px rgba(60, 64, 67, 0.15);\n",
              "      fill: #174EA6;\n",
              "    }\n",
              "\n",
              "    .colab-df-buttons div {\n",
              "      margin-bottom: 4px;\n",
              "    }\n",
              "\n",
              "    [theme=dark] .colab-df-convert {\n",
              "      background-color: #3B4455;\n",
              "      fill: #D2E3FC;\n",
              "    }\n",
              "\n",
              "    [theme=dark] .colab-df-convert:hover {\n",
              "      background-color: #434B5C;\n",
              "      box-shadow: 0px 1px 3px 1px rgba(0, 0, 0, 0.15);\n",
              "      filter: drop-shadow(0px 1px 2px rgba(0, 0, 0, 0.3));\n",
              "      fill: #FFFFFF;\n",
              "    }\n",
              "  </style>\n",
              "\n",
              "    <script>\n",
              "      const buttonEl =\n",
              "        document.querySelector('#df-a09191f3-4e27-41f3-9f24-6920fec18eb9 button.colab-df-convert');\n",
              "      buttonEl.style.display =\n",
              "        google.colab.kernel.accessAllowed ? 'block' : 'none';\n",
              "\n",
              "      async function convertToInteractive(key) {\n",
              "        const element = document.querySelector('#df-a09191f3-4e27-41f3-9f24-6920fec18eb9');\n",
              "        const dataTable =\n",
              "          await google.colab.kernel.invokeFunction('convertToInteractive',\n",
              "                                                    [key], {});\n",
              "        if (!dataTable) return;\n",
              "\n",
              "        const docLinkHtml = 'Like what you see? Visit the ' +\n",
              "          '<a target=\"_blank\" href=https://colab.research.google.com/notebooks/data_table.ipynb>data table notebook</a>'\n",
              "          + ' to learn more about interactive tables.';\n",
              "        element.innerHTML = '';\n",
              "        dataTable['output_type'] = 'display_data';\n",
              "        await google.colab.output.renderOutput(dataTable, element);\n",
              "        const docLink = document.createElement('div');\n",
              "        docLink.innerHTML = docLinkHtml;\n",
              "        element.appendChild(docLink);\n",
              "      }\n",
              "    </script>\n",
              "  </div>\n",
              "\n",
              "\n",
              "<div id=\"df-f81f857c-1cfb-4c4a-bd10-35805469df5b\">\n",
              "  <button class=\"colab-df-quickchart\" onclick=\"quickchart('df-f81f857c-1cfb-4c4a-bd10-35805469df5b')\"\n",
              "            title=\"Suggest charts\"\n",
              "            style=\"display:none;\">\n",
              "\n",
              "<svg xmlns=\"http://www.w3.org/2000/svg\" height=\"24px\"viewBox=\"0 0 24 24\"\n",
              "     width=\"24px\">\n",
              "    <g>\n",
              "        <path d=\"M19 3H5c-1.1 0-2 .9-2 2v14c0 1.1.9 2 2 2h14c1.1 0 2-.9 2-2V5c0-1.1-.9-2-2-2zM9 17H7v-7h2v7zm4 0h-2V7h2v10zm4 0h-2v-4h2v4z\"/>\n",
              "    </g>\n",
              "</svg>\n",
              "  </button>\n",
              "\n",
              "<style>\n",
              "  .colab-df-quickchart {\n",
              "      --bg-color: #E8F0FE;\n",
              "      --fill-color: #1967D2;\n",
              "      --hover-bg-color: #E2EBFA;\n",
              "      --hover-fill-color: #174EA6;\n",
              "      --disabled-fill-color: #AAA;\n",
              "      --disabled-bg-color: #DDD;\n",
              "  }\n",
              "\n",
              "  [theme=dark] .colab-df-quickchart {\n",
              "      --bg-color: #3B4455;\n",
              "      --fill-color: #D2E3FC;\n",
              "      --hover-bg-color: #434B5C;\n",
              "      --hover-fill-color: #FFFFFF;\n",
              "      --disabled-bg-color: #3B4455;\n",
              "      --disabled-fill-color: #666;\n",
              "  }\n",
              "\n",
              "  .colab-df-quickchart {\n",
              "    background-color: var(--bg-color);\n",
              "    border: none;\n",
              "    border-radius: 50%;\n",
              "    cursor: pointer;\n",
              "    display: none;\n",
              "    fill: var(--fill-color);\n",
              "    height: 32px;\n",
              "    padding: 0;\n",
              "    width: 32px;\n",
              "  }\n",
              "\n",
              "  .colab-df-quickchart:hover {\n",
              "    background-color: var(--hover-bg-color);\n",
              "    box-shadow: 0 1px 2px rgba(60, 64, 67, 0.3), 0 1px 3px 1px rgba(60, 64, 67, 0.15);\n",
              "    fill: var(--button-hover-fill-color);\n",
              "  }\n",
              "\n",
              "  .colab-df-quickchart-complete:disabled,\n",
              "  .colab-df-quickchart-complete:disabled:hover {\n",
              "    background-color: var(--disabled-bg-color);\n",
              "    fill: var(--disabled-fill-color);\n",
              "    box-shadow: none;\n",
              "  }\n",
              "\n",
              "  .colab-df-spinner {\n",
              "    border: 2px solid var(--fill-color);\n",
              "    border-color: transparent;\n",
              "    border-bottom-color: var(--fill-color);\n",
              "    animation:\n",
              "      spin 1s steps(1) infinite;\n",
              "  }\n",
              "\n",
              "  @keyframes spin {\n",
              "    0% {\n",
              "      border-color: transparent;\n",
              "      border-bottom-color: var(--fill-color);\n",
              "      border-left-color: var(--fill-color);\n",
              "    }\n",
              "    20% {\n",
              "      border-color: transparent;\n",
              "      border-left-color: var(--fill-color);\n",
              "      border-top-color: var(--fill-color);\n",
              "    }\n",
              "    30% {\n",
              "      border-color: transparent;\n",
              "      border-left-color: var(--fill-color);\n",
              "      border-top-color: var(--fill-color);\n",
              "      border-right-color: var(--fill-color);\n",
              "    }\n",
              "    40% {\n",
              "      border-color: transparent;\n",
              "      border-right-color: var(--fill-color);\n",
              "      border-top-color: var(--fill-color);\n",
              "    }\n",
              "    60% {\n",
              "      border-color: transparent;\n",
              "      border-right-color: var(--fill-color);\n",
              "    }\n",
              "    80% {\n",
              "      border-color: transparent;\n",
              "      border-right-color: var(--fill-color);\n",
              "      border-bottom-color: var(--fill-color);\n",
              "    }\n",
              "    90% {\n",
              "      border-color: transparent;\n",
              "      border-bottom-color: var(--fill-color);\n",
              "    }\n",
              "  }\n",
              "</style>\n",
              "\n",
              "  <script>\n",
              "    async function quickchart(key) {\n",
              "      const quickchartButtonEl =\n",
              "        document.querySelector('#' + key + ' button');\n",
              "      quickchartButtonEl.disabled = true;  // To prevent multiple clicks.\n",
              "      quickchartButtonEl.classList.add('colab-df-spinner');\n",
              "      try {\n",
              "        const charts = await google.colab.kernel.invokeFunction(\n",
              "            'suggestCharts', [key], {});\n",
              "      } catch (error) {\n",
              "        console.error('Error during call to suggestCharts:', error);\n",
              "      }\n",
              "      quickchartButtonEl.classList.remove('colab-df-spinner');\n",
              "      quickchartButtonEl.classList.add('colab-df-quickchart-complete');\n",
              "    }\n",
              "    (() => {\n",
              "      let quickchartButtonEl =\n",
              "        document.querySelector('#df-f81f857c-1cfb-4c4a-bd10-35805469df5b button');\n",
              "      quickchartButtonEl.style.display =\n",
              "        google.colab.kernel.accessAllowed ? 'block' : 'none';\n",
              "    })();\n",
              "  </script>\n",
              "</div>\n",
              "\n",
              "    </div>\n",
              "  </div>\n"
            ],
            "application/vnd.google.colaboratory.intrinsic+json": {
              "type": "dataframe",
              "variable_name": "dados_saude",
              "summary": "{\n  \"name\": \"dados_saude\",\n  \"rows\": 374,\n  \"fields\": [\n    {\n      \"column\": \"Person ID\",\n      \"properties\": {\n        \"dtype\": \"number\",\n        \"std\": 108,\n        \"min\": 1,\n        \"max\": 374,\n        \"num_unique_values\": 374,\n        \"samples\": [\n          330,\n          34,\n          16\n        ],\n        \"semantic_type\": \"\",\n        \"description\": \"\"\n      }\n    },\n    {\n      \"column\": \"Gender\",\n      \"properties\": {\n        \"dtype\": \"number\",\n        \"std\": 2,\n        \"min\": 0,\n        \"max\": 33,\n        \"num_unique_values\": 3,\n        \"samples\": [\n          1,\n          0,\n          33\n        ],\n        \"semantic_type\": \"\",\n        \"description\": \"\"\n      }\n    },\n    {\n      \"column\": \"Age\",\n      \"properties\": {\n        \"dtype\": \"number\",\n        \"std\": 9.038441270270027,\n        \"min\": 6.2,\n        \"max\": 59.0,\n        \"num_unique_values\": 32,\n        \"samples\": [\n          57.0,\n          41.0,\n          52.0\n        ],\n        \"semantic_type\": \"\",\n        \"description\": \"\"\n      }\n    },\n    {\n      \"column\": \"Sleep Duration\",\n      \"properties\": {\n        \"dtype\": \"number\",\n        \"std\": 0.7970458423509674,\n        \"min\": 5.8,\n        \"max\": 8.5,\n        \"num_unique_values\": 27,\n        \"samples\": [\n          7.7,\n          5.8,\n          7.9\n        ],\n        \"semantic_type\": \"\",\n        \"description\": \"\"\n      }\n    },\n    {\n      \"column\": \"Quality of Sleep\",\n      \"properties\": {\n        \"dtype\": \"number\",\n        \"std\": 3,\n        \"min\": 4,\n        \"max\": 50,\n        \"num_unique_values\": 7,\n        \"samples\": [\n          6,\n          4,\n          50\n        ],\n        \"semantic_type\": \"\",\n        \"description\": \"\"\n      }\n    },\n    {\n      \"column\": \"Physical Activity Level\",\n      \"properties\": {\n        \"dtype\": \"number\",\n        \"std\": 21,\n        \"min\": 6,\n        \"max\": 90,\n        \"num_unique_values\": 17,\n        \"samples\": [\n          42,\n          60,\n          35\n        ],\n        \"semantic_type\": \"\",\n        \"description\": \"\"\n      }\n    },\n    {\n      \"column\": \"Stress Level\",\n      \"properties\": {\n        \"dtype\": \"number\",\n        \"std\": 1,\n        \"min\": 2,\n        \"max\": 8,\n        \"num_unique_values\": 7,\n        \"samples\": [\n          6,\n          8,\n          2\n        ],\n        \"semantic_type\": \"\",\n        \"description\": \"\"\n      }\n    },\n    {\n      \"column\": \"BMI Category\",\n      \"properties\": {\n        \"dtype\": \"number\",\n        \"std\": 9.32030004132471,\n        \"min\": 1.0,\n        \"max\": 128.85,\n        \"num_unique_values\": 4,\n        \"samples\": [\n          1.0,\n          128.85,\n          2.0\n        ],\n        \"semantic_type\": \"\",\n        \"description\": \"\"\n      }\n    },\n    {\n      \"column\": \"Blood Pressure\",\n      \"properties\": {\n        \"dtype\": \"number\",\n        \"std\": 8.72778268298573,\n        \"min\": 76.0,\n        \"max\": 142.92,\n        \"num_unique_values\": 26,\n        \"samples\": [\n          76.0,\n          115.78,\n          126.83\n        ],\n        \"semantic_type\": \"\",\n        \"description\": \"\"\n      }\n    },\n    {\n      \"column\": \"Heart Rate\",\n      \"properties\": {\n        \"dtype\": \"number\",\n        \"std\": 396,\n        \"min\": 65,\n        \"max\": 5500,\n        \"num_unique_values\": 19,\n        \"samples\": [\n          77,\n          80,\n          81\n        ],\n        \"semantic_type\": \"\",\n        \"description\": \"\"\n      }\n    },\n    {\n      \"column\": \"Daily Steps\",\n      \"properties\": {\n        \"dtype\": \"number\",\n        \"std\": 1690,\n        \"min\": 0,\n        \"max\": 10000,\n        \"num_unique_values\": 21,\n        \"samples\": [\n          4200,\n          7300,\n          5500\n        ],\n        \"semantic_type\": \"\",\n        \"description\": \"\"\n      }\n    },\n    {\n      \"column\": \"Sleep Disorder\",\n      \"properties\": {\n        \"dtype\": \"number\",\n        \"std\": 0,\n        \"min\": 0,\n        \"max\": 1,\n        \"num_unique_values\": 2,\n        \"samples\": [\n          1,\n          0\n        ],\n        \"semantic_type\": \"\",\n        \"description\": \"\"\n      }\n    }\n  ]\n}"
            }
          },
          "metadata": {},
          "execution_count": 3
        }
      ]
    },
    {
      "cell_type": "markdown",
      "metadata": {
        "id": "mE4-PIaTAfKX"
      },
      "source": [
        "## Separação em Conjunto de Treino e Teste com Holdout"
      ]
    },
    {
      "cell_type": "code",
      "metadata": {
        "id": "fEiAm3LEAfPt"
      },
      "source": [
        "# Configurações iniciais\n",
        "tamanho_teste = 0.20  # Proporção do conjunto de teste\n",
        "semente_aleatoria = 7  # Semente para geração aleatória\n",
        "\n",
        "# Extração das características e do alvo\n",
        "caracteristicas = dados_saude.values[:, 1:11]  # Seleção de colunas de características\n",
        "alvo = dados_saude.values[:, 11]  # Seleção da coluna alvo\n",
        "\n",
        "# Divisão dos dados em conjuntos de treino e teste\n",
        "X_treino, X_teste, y_treino, y_teste = train_test_split(caracteristicas, alvo,\n",
        "                                                        test_size=tamanho_teste,\n",
        "                                                        shuffle=True,\n",
        "                                                        random_state=semente_aleatoria,\n",
        "                                                        stratify=alvo)  # Holdout com estratificação\n",
        "\n",
        "# Parâmetros de partição da validação cruzada\n",
        "criterio_scoring = 'accuracy'  # Critério de pontuação: acurácia\n",
        "num_particoes = 10  # Número de partições para a validação cruzada\n",
        "\n",
        "# Configuração do k-fold estratificado\n",
        "kfold = StratifiedKFold(n_splits=num_particoes,\n",
        "                        shuffle=True,\n",
        "                        random_state=semente_aleatoria)  # Validação cruzada com estratificação\n"
      ],
      "execution_count": 20,
      "outputs": []
    },
    {
      "cell_type": "markdown",
      "metadata": {
        "id": "pwHzQpbX9QQh"
      },
      "source": [
        "### Criação e Avaliação de Modelos de Classificação"
      ]
    },
    {
      "cell_type": "code",
      "metadata": {
        "id": "eAhfSnnIAfke",
        "colab": {
          "base_uri": "https://localhost:8080/",
          "height": 999
        },
        "outputId": "e815b6ee-d57e-40c3-e39d-200c67b293bd"
      },
      "source": [
        "# Definindo uma semente global para garantir a reprodutibilidade dos resultados\n",
        "np.random.seed(7)\n",
        "\n",
        "# Lista para armazenar as configurações dos modelos de classificação\n",
        "modelos_classificacao = []\n",
        "\n",
        "# Adicionando modelos de classificação comuns à lista\n",
        "modelos_classificacao.append(('KNN', KNeighborsClassifier()))\n",
        "modelos_classificacao.append(('Árvore de Decisão', DecisionTreeClassifier()))\n",
        "modelos_classificacao.append(('Naive Bayes', GaussianNB()))\n",
        "modelos_classificacao.append(('SVM', SVC()))\n",
        "\n",
        "# Listas para armazenar os resultados da validação cruzada\n",
        "resultados_cv = []\n",
        "nomes_modelos = []\n",
        "\n",
        "# Avaliação dos modelos usando validação cruzada\n",
        "for nome, modelo in modelos_classificacao:\n",
        "    cv_resultados = cross_val_score(modelo, X_treino, y_treino, cv=kfold, scoring=criterio_scoring)\n",
        "    resultados_cv.append(cv_resultados)\n",
        "    nomes_modelos.append(nome)\n",
        "    mensagem = \"%s: Média = %f, Desvio Padrão = %f\" % (nome, cv_resultados.mean(), cv_resultados.std())\n",
        "    print(mensagem)\n",
        "\n",
        "# Boxplot para comparação dos modelos de classificação\n",
        "fig = plt.figure(figsize=(15, 10))\n",
        "fig.suptitle('Comparação dos Modelos de Classificação')\n",
        "ax = fig.add_subplot(111)\n",
        "plt.boxplot(resultados_cv)\n",
        "ax.set_xticklabels(nomes_modelos)\n",
        "plt.show()\n"
      ],
      "execution_count": 21,
      "outputs": [
        {
          "output_type": "stream",
          "name": "stdout",
          "text": [
            "KNN: Média = 0.886207, Desvio Padrão = 0.073472\n",
            "Árvore de Decisão: Média = 0.929885, Desvio Padrão = 0.062205\n",
            "Naive Bayes: Média = 0.438276, Desvio Padrão = 0.059609\n",
            "SVM: Média = 0.595287, Desvio Padrão = 0.027832\n"
          ]
        },
        {
          "output_type": "display_data",
          "data": {
            "text/plain": [
              "<Figure size 1500x1000 with 1 Axes>"
            ],
            "image/png": "[encoded data removed]"
          },
          "metadata": {}
        }
      ]
    },
    {
      "cell_type": "markdown",
      "metadata": {
        "id": "olo7SPk2BvvW"
      },
      "source": [
        "### Criação e Avaliação de Modelos de Classificação Utilizando Dados em Diferentes Formatos"
      ]
    },
    {
      "cell_type": "code",
      "metadata": {
        "id": "hmQbiYQdBRDW",
        "colab": {
          "base_uri": "https://localhost:8080/",
          "height": 838
        },
        "outputId": "940436fa-bb7b-4e03-cb98-2df904bdf295"
      },
      "source": [
        "# Definindo uma semente global para garantir a consistência dos resultados\n",
        "np.random.seed(7)\n",
        "\n",
        "# Listas para armazenar os pipelines e os resultados de cada configuração\n",
        "pipelines = []\n",
        "resultados_modelos = []\n",
        "nomes_modelos = []\n",
        "\n",
        "# Definição dos modelos de classificação a serem utilizados\n",
        "knn = ('KNN', KNeighborsClassifier())\n",
        "cart = ('CART', DecisionTreeClassifier())\n",
        "naive_bayes = ('NB', GaussianNB())\n",
        "svm = ('SVM', SVC())\n",
        "\n",
        "# Definição das transformações para pré-processamento dos dados\n",
        "scaler_padrao = ('StandardScaler', StandardScaler())\n",
        "scaler_minmax = ('MinMaxScaler', MinMaxScaler())\n",
        "\n",
        "# Montando os pipelines para avaliação em diferentes versões do dataset\n",
        "\n",
        "# Pipelines para o dataset original\n",
        "pipelines.append(('KNN-Original', Pipeline([knn])))\n",
        "pipelines.append(('CART-Original', Pipeline([cart])))\n",
        "pipelines.append(('NB-Original', Pipeline([naive_bayes])))\n",
        "pipelines.append(('SVM-Original', Pipeline([svm])))\n",
        "\n",
        "# Pipelines para o dataset padronizado\n",
        "pipelines.append(('KNN-Padronizado', Pipeline([scaler_padrao, knn])))\n",
        "pipelines.append(('CART-Padronizado', Pipeline([scaler_padrao, cart])))\n",
        "pipelines.append(('NB-Padronizado', Pipeline([scaler_padrao, naive_bayes])))\n",
        "pipelines.append(('SVM-Padronizado', Pipeline([scaler_padrao, svm])))\n",
        "\n",
        "# Pipelines para o dataset normalizado\n",
        "pipelines.append(('KNN-Normalizado', Pipeline([scaler_minmax, knn])))\n",
        "pipelines.append(('CART-Normalizado', Pipeline([scaler_minmax, cart])))\n",
        "pipelines.append(('NB-Normalizado', Pipeline([scaler_minmax, naive_bayes])))\n",
        "pipelines.append(('SVM-Normalizado', Pipeline([scaler_minmax, svm])))\n",
        "\n",
        "# Execução dos pipelines e coleta de resultados\n",
        "for nome, modelo in pipelines:\n",
        "    resultados_cv = cross_val_score(modelo, X_treino, y_treino, cv=kfold, scoring=criterio_scoring)\n",
        "    resultados_modelos.append(resultados_cv)\n",
        "    nomes_modelos.append(nome)\n",
        "    mensagem = \"%s: Média = %.3f, Desvio Padrão = %.3f\" % (nome, resultados_cv.mean(), resultados_cv.std())\n",
        "    print(mensagem)\n",
        "\n",
        "# Boxplot para comparação visual dos resultados\n",
        "figura = plt.figure(figsize=(25, 6))\n",
        "figura.suptitle('Comparação dos Modelos - Datasets Original, Padronizado e Normalizado')\n",
        "eixo = figura.add_subplot(111)\n",
        "plt.boxplot(resultados_modelos)\n",
        "eixo.set_xticklabels(nomes_modelos, rotation=90)\n",
        "plt.show()\n"
      ],
      "execution_count": 22,
      "outputs": [
        {
          "output_type": "stream",
          "name": "stdout",
          "text": [
            "KNN-Original: Média = 0.886, Desvio Padrão = 0.073\n",
            "CART-Original: Média = 0.930, Desvio Padrão = 0.062\n",
            "NB-Original: Média = 0.438, Desvio Padrão = 0.060\n",
            "SVM-Original: Média = 0.595, Desvio Padrão = 0.028\n",
            "KNN-Padronizado: Média = 0.930, Desvio Padrão = 0.066\n",
            "CART-Padronizado: Média = 0.930, Desvio Padrão = 0.062\n",
            "NB-Padronizado: Média = 0.438, Desvio Padrão = 0.060\n",
            "SVM-Padronizado: Média = 0.930, Desvio Padrão = 0.066\n",
            "KNN-Normalizado: Média = 0.923, Desvio Padrão = 0.068\n",
            "CART-Normalizado: Média = 0.930, Desvio Padrão = 0.062\n",
            "NB-Normalizado: Média = 0.438, Desvio Padrão = 0.060\n",
            "SVM-Normalizado: Média = 0.926, Desvio Padrão = 0.063\n"
          ]
        },
        {
          "output_type": "display_data",
          "data": {
            "text/plain": [
              "<Figure size 2500x600 with 1 Axes>"
            ],
            "image/png": "[encoded data removed]"
          },
          "metadata": {}
        }
      ]
    },
    {
      "cell_type": "markdown",
      "metadata": {
        "id": "f-f2vCU5CMmp"
      },
      "source": [
        "### Otimização dos Hiperparâmetros do KNN"
      ]
    },
    {
      "cell_type": "code",
      "source": [
        "# Tuning do KNN\n",
        "\n",
        "# Definindo uma semente global para garantir a consistência dos resultados\n",
        "np.random.seed(7)\n",
        "\n",
        "# Lista para armazenar os pipelines e os GridSearchCV correspondentes\n",
        "pipelines_knn = []\n",
        "grids_knn = []\n",
        "\n",
        "# Componentes do pipeline para KNN\n",
        "knn = ('KNN', KNeighborsClassifier())\n",
        "scaler_padrao = ('StandardScaler', StandardScaler())\n",
        "\n",
        "# Montagem do pipeline\n",
        "pipelines_knn.append(('KNN-Padronizado', Pipeline([scaler_padrao, knn])))\n",
        "\n",
        "# Definição da grade de parâmetros para a otimização\n",
        "param_grid_knn = {\n",
        "    'KNN__n_neighbors': [3, 5, 7, 9, 11, 13, 15, 17, 19, 21],\n",
        "    'KNN__metric': ['euclidean', 'manhattan', 'minkowski'],\n",
        "    'KNN__weights': ['uniform', 'distance']\n",
        "}\n",
        "\n",
        "# Preparação e execução do GridSearchCV\n",
        "for nome, modelo in pipelines_knn:\n",
        "    grid_knn = GridSearchCV(estimator=modelo, param_grid=param_grid_knn, scoring=criterio_scoring, cv=kfold)\n",
        "    grid_knn.fit(X_treino, y_treino)\n",
        "    grids_knn.append((nome, grid_knn))\n",
        "    # Impressão da melhor configuração encontrada\n",
        "    print(f\"{nome}: Melhor: {grid_knn.best_score_:.3f} usando {grid_knn.best_params_}\")\n",
        "\n",
        "# Visualização gráfica dos resultados\n",
        "figura = plt.figure(figsize=(10, 5))\n",
        "figura.suptitle('Resultados da Otimização do KNN')\n",
        "eixo = figura.add_subplot(111)\n",
        "# Agregar resultados para cada grid em uma lista para plotagem\n",
        "resultados_knn = [grid_knn.cv_results_['mean_test_score'] for nome, grid_knn in grids_knn]\n",
        "plt.boxplot(resultados_knn)\n",
        "eixo.set_xticklabels([nome for nome, _ in grids_knn], rotation=45)\n",
        "plt.show()\n"
      ],
      "metadata": {
        "id": "jBSDgpXNt1Fp",
        "colab": {
          "base_uri": "https://localhost:8080/",
          "height": 593
        },
        "outputId": "599bf55d-8c6e-481e-884d-00dc1a4c29df"
      },
      "execution_count": 30,
      "outputs": [
        {
          "output_type": "stream",
          "name": "stdout",
          "text": [
            "KNN-Padronizado: Melhor: 0.930 usando {'KNN__metric': 'euclidean', 'KNN__n_neighbors': 3, 'KNN__weights': 'uniform'}\n"
          ]
        },
        {
          "output_type": "display_data",
          "data": {
            "text/plain": [
              "<Figure size 1000x500 with 1 Axes>"
            ],
            "image/png": "[encoded data removed]"
          },
          "metadata": {}
        }
      ]
    },
    {
      "cell_type": "markdown",
      "metadata": {
        "id": "cuUpaYcwDRDt"
      },
      "source": [
        "## Finalização do Modelo"
      ]
    },
    {
      "cell_type": "code",
      "metadata": {
        "id": "lbrFxAbSDVIj",
        "colab": {
          "base_uri": "https://localhost:8080/"
        },
        "outputId": "a7dccdcd-2fac-44f6-8cc1-489a25cd4e38"
      },
      "source": [
        "# Atualização do modelo KNN com os melhores hiperparâmetros encontrados\n",
        "melhores_parametros_knn = grid_knn.best_params_\n",
        "modelo_knn_otimizado = KNeighborsClassifier(\n",
        "    n_neighbors=melhores_parametros_knn['KNN__n_neighbors'],\n",
        "    metric=melhores_parametros_knn['KNN__metric'],\n",
        "    weights=melhores_parametros_knn['KNN__weights']\n",
        ")\n",
        "\n",
        "# Ajuste do StandardScaler com o conjunto de treino\n",
        "scaler = StandardScaler().fit(X_treino)\n",
        "# Aplicação da padronização no conjunto de treino\n",
        "X_treino_rescaled = scaler.transform(X_treino)\n",
        "\n",
        "# Treinamento do modelo otimizado com os dados padronizados de treino\n",
        "modelo_knn_otimizado.fit(X_treino_rescaled, y_treino)\n",
        "\n",
        "# Estimativa da acurácia no conjunto de teste\n",
        "X_teste_rescaled = scaler.transform(X_teste)\n",
        "predicoes = modelo_knn_otimizado.predict(X_teste_rescaled)\n",
        "print(\"Acurácia no conjunto de teste com KNN otimizado:\", accuracy_score(y_teste, predicoes))\n"
      ],
      "execution_count": 36,
      "outputs": [
        {
          "output_type": "stream",
          "name": "stdout",
          "text": [
            "Acurácia no conjunto de teste com KNN otimizado: 0.9466666666666667\n"
          ]
        }
      ]
    },
    {
      "cell_type": "code",
      "metadata": {
        "id": "iGeQHmeg4ziu",
        "colab": {
          "base_uri": "https://localhost:8080/"
        },
        "outputId": "93473732-145b-4146-e93a-391e4f7b96a5"
      },
      "source": [
        "# Preparação do modelo com TODO o dataset\n",
        "scaler_total = StandardScaler().fit(caracteristicas)\n",
        "caracteristicas_rescaled = scaler_total.transform(caracteristicas)\n",
        "modelo_knn_otimizado.fit(caracteristicas_rescaled, alvo)\n",
        "\n",
        "# Salvando o modelo otimizado e o scaler\n",
        "joblib.dump(modelo_knn_otimizado, 'sleep_health_knn.joblib')\n",
        "joblib.dump(scaler_total, 'scaler_knn.joblib')"
      ],
      "execution_count": 32,
      "outputs": [
        {
          "output_type": "execute_result",
          "data": {
            "text/plain": [
              "['scaler_knn.joblib']"
            ]
          },
          "metadata": {},
          "execution_count": 32
        }
      ]
    },
    {
      "cell_type": "markdown",
      "source": [
        "### Salvando o modelo usando a biblioteca Picke"
      ],
      "metadata": {
        "id": "pB5oZolmGhFR"
      }
    },
    {
      "cell_type": "code",
      "source": [
        "# Definição do nome do arquivo onde o modelo será salvo\n",
        "artifact_pkl_filename = 'sleep_health.pkl'\n",
        "\n",
        "# Caminho local para salvar o arquivo\n",
        "local_path = artifact_pkl_filename\n",
        "\n",
        "# Salvando o modelo treinado no formato Pickle\n",
        "with open(local_path, 'wb') as model_file:\n",
        "    pickle.dump(modelo, model_file)"
      ],
      "metadata": {
        "id": "G4o-OrxCkV6W"
      },
      "execution_count": 26,
      "outputs": []
    },
    {
      "cell_type": "markdown",
      "source": [
        "### Salvando o mesmo modelo usando a biblioteca Joblib"
      ],
      "metadata": {
        "id": "fAbhTCUhGZWi"
      }
    },
    {
      "cell_type": "code",
      "source": [
        "# Definição do nome do arquivo onde o modelo será salvo usando Joblib\n",
        "joblib_filename = 'sleep_health.joblib'\n",
        "\n",
        "# Caminho local para salvar o arquivo\n",
        "local_path = joblib_filename\n",
        "\n",
        "# Salvando o modelo treinado usando Joblib\n",
        "joblib.dump(modelo, local_path)\n",
        "\n",
        "# Salvando o objeto de escala em um arquivo separado\n",
        "joblib.dump(scaler, 'scaler.joblib')\n"
      ],
      "metadata": {
        "colab": {
          "base_uri": "https://localhost:8080/"
        },
        "id": "3MBY1hbjjhft",
        "outputId": "a78af411-62ea-424e-c907-ecb80d861164"
      },
      "execution_count": 27,
      "outputs": [
        {
          "output_type": "execute_result",
          "data": {
            "text/plain": [
              "['scaler.joblib']"
            ]
          },
          "metadata": {},
          "execution_count": 27
        }
      ]
    },
    {
      "cell_type": "markdown",
      "metadata": {
        "id": "xZ-FQWZj_OtQ"
      },
      "source": [
        "## Simulando a aplicação do modelo em dados não vistos"
      ]
    },
    {
      "cell_type": "code",
      "metadata": {
        "id": "JAIp6d9w5QG8"
      },
      "source": [
        "# Novos dados - ainda não classificados\n",
        "data = {\n",
        "    'person_ID': [1, 2, 3, 4],\n",
        "    'gender': [1, 0, 1, 0],\n",
        "    'age': [27, 43, 89, 20],\n",
        "    'sleep_duration': [6.1, 7, 9, 5],\n",
        "    'quality_sleep': [8, 7, 10, 7],\n",
        "    'activity_level': [42, 35, 75, 20],\n",
        "    'stress_level': [6, 8, 3, 70],\n",
        "    'bmi_category': [3, 2, 1, 2],\n",
        "    'blood_pressure': [126.83, 132.87, 120.80, 130],\n",
        "    'heart_rate': [77, 75, 69, 70],\n",
        "    'daily_steps': [10000, 5000, 9500, 1000]\n",
        "}\n",
        "\n",
        "# Convertendo os dados em um DataFrame para manipulação\n",
        "atributos = ['person_ID', 'gender', 'age', 'sleep_duration', 'quality_sleep', 'activity_level',\n",
        "             'stress_level', 'bmi_category', 'blood_pressure', 'heart_rate', 'daily_steps']\n",
        "entrada = pd.DataFrame(data, columns=atributos)\n",
        "\n",
        "# Convertendo todos os dados em floats para consistência\n",
        "array_entrada = entrada.values[:, 1:11].astype(float)\n",
        "\n",
        "# Padronização dos dados de entrada usando o scaler treinado previamente\n",
        "X_entrada_rescaled = scaler_total.transform(array_entrada)"
      ],
      "execution_count": 45,
      "outputs": []
    },
    {
      "cell_type": "code",
      "metadata": {
        "id": "nQf_VFWy5Qsm",
        "colab": {
          "base_uri": "https://localhost:8080/"
        },
        "outputId": "2e6ce8bf-d727-4fe2-ac72-373d77f8e2ae"
      },
      "source": [
        "# Previsão de classes para os dados de entrada\n",
        "saidas = modelo_knn_otimizado.predict(X_entrada_rescaled)\n",
        "print(\"Predições dos novos dados com KNN otimizado:\", saidas)"
      ],
      "execution_count": 46,
      "outputs": [
        {
          "output_type": "stream",
          "name": "stdout",
          "text": [
            "Predições dos novos dados com KNN otimizado: [0. 1. 0. 1.]\n"
          ]
        }
      ]
    },
    {
      "cell_type": "markdown",
      "source": [
        "**Conclusão da Análise**\n",
        "\n",
        "Na avaliação do conjunto de dados selecionado, constatou-se que o algoritmo KNN com dados padronizados (KNN-Padronizado) alcançou a melhor performance, registrando uma precisão média de 0.930 com um desvio padrão de 0.066. Após a otimização dos hiperparâmetros através do GridSearchCV, o modelo KNN apresentou uma acurácia de 0.947 no conjunto de teste utilizando os parâmetros n_neighbors=3, metric='euclidean' e weights='uniform'.\n",
        "\n",
        "Ao analisar os dados, foi possível discernir perfis com maior propensão a distúrbios do sono. Conclui-se que indivíduos mais jovens, fisicamente ativos e com melhor estado de saúde geral tendem a apresentar menores incidências de problemas relacionados ao sono."
      ],
      "metadata": {
        "id": "H2zNs8s1reU4"
      }
    }
  ]
}